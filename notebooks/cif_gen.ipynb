{
 "cells": [
  {
   "cell_type": "markdown",
   "metadata": {},
   "source": [
    "#### create .cif file from .json file > build cif dataset from json files"
   ]
  },
  {
   "cell_type": "code",
   "execution_count": 1,
   "metadata": {},
   "outputs": [],
   "source": [
    "import yaml\n",
    "import json\n",
    "\n",
    "import pandas as pd\n",
    "import numpy as np\n",
    "import tensorflow as tf\n",
    "\n",
    "from pathlib import Path\n",
    "from pymatgen.io import cif\n",
    "from pymatgen.core import Structure"
   ]
  },
  {
   "cell_type": "code",
   "execution_count": 2,
   "metadata": {},
   "outputs": [],
   "source": [
    "def read_pymatgen_dict(file):\n",
    "    with open(file, \"r\") as f:\n",
    "        d = json.load(f)\n",
    "    return Structure.from_dict(d)"
   ]
  },
  {
   "cell_type": "code",
   "execution_count": 3,
   "metadata": {},
   "outputs": [],
   "source": [
    "def prepare_dataset(dataset_path):\n",
    "    dataset_path = Path(dataset_path)\n",
    "    targets = pd.read_csv(dataset_path / \"targets.csv\", index_col=0)\n",
    "    struct = {\n",
    "        item.name.strip(\".json\"): read_pymatgen_dict(item)\n",
    "        for item in (dataset_path / \"structures\").iterdir()\n",
    "    }\n",
    "\n",
    "    data = pd.DataFrame(columns=[\"structures\"], index=struct.keys())\n",
    "    data = data.assign(structures=struct.values(), targets=targets)\n",
    "\n",
    "    return data #train_test_split(data, test_size=0.25, random_state=666)"
   ]
  },
  {
   "cell_type": "code",
   "execution_count": 4,
   "metadata": {},
   "outputs": [],
   "source": [
    "sample_df = prepare_dataset('../data/dichalcogenides_public')  ## changable param"
   ]
  },
  {
   "cell_type": "code",
   "execution_count": null,
   "metadata": {},
   "outputs": [
    {
     "data": {
      "text/html": [
       "<div>\n",
       "<style scoped>\n",
       "    .dataframe tbody tr th:only-of-type {\n",
       "        vertical-align: middle;\n",
       "    }\n",
       "\n",
       "    .dataframe tbody tr th {\n",
       "        vertical-align: top;\n",
       "    }\n",
       "\n",
       "    .dataframe thead th {\n",
       "        text-align: right;\n",
       "    }\n",
       "</style>\n",
       "<table border=\"1\" class=\"dataframe\">\n",
       "  <thead>\n",
       "    <tr style=\"text-align: right;\">\n",
       "      <th></th>\n",
       "      <th>structures</th>\n",
       "      <th>targets</th>\n",
       "    </tr>\n",
       "  </thead>\n",
       "  <tbody>\n",
       "    <tr>\n",
       "      <th>6141cf0f51c1cbd9654b8870</th>\n",
       "      <td>[[1.27612629e-07 1.84192955e+00 3.71975100e+00...</td>\n",
       "      <td>1.0843</td>\n",
       "    </tr>\n",
       "    <tr>\n",
       "      <th>6141cf1051c1cbd9654b8872</th>\n",
       "      <td>[[1.27612629e-07 1.84192955e+00 3.71975100e+00...</td>\n",
       "      <td>1.1102</td>\n",
       "    </tr>\n",
       "    <tr>\n",
       "      <th>6141cf11ae4fb853db2e3f14</th>\n",
       "      <td>[[1.27612629e-07 1.84192955e+00 3.71975100e+00...</td>\n",
       "      <td>0.3600</td>\n",
       "    </tr>\n",
       "    <tr>\n",
       "      <th>6141cf11b842c2e72e2f2d48</th>\n",
       "      <td>[[1.27612629e-07 1.84192955e+00 3.71975100e+00...</td>\n",
       "      <td>1.8068</td>\n",
       "    </tr>\n",
       "    <tr>\n",
       "      <th>6141cf11cc0e69a0cf28ab35</th>\n",
       "      <td>[[1.27612629e-07 1.84192955e+00 3.71975100e+00...</td>\n",
       "      <td>1.1484</td>\n",
       "    </tr>\n",
       "  </tbody>\n",
       "</table>\n",
       "</div>"
      ],
      "text/plain": [
       "                                                                 structures  \\\n",
       "6141cf0f51c1cbd9654b8870  [[1.27612629e-07 1.84192955e+00 3.71975100e+00...   \n",
       "6141cf1051c1cbd9654b8872  [[1.27612629e-07 1.84192955e+00 3.71975100e+00...   \n",
       "6141cf11ae4fb853db2e3f14  [[1.27612629e-07 1.84192955e+00 3.71975100e+00...   \n",
       "6141cf11b842c2e72e2f2d48  [[1.27612629e-07 1.84192955e+00 3.71975100e+00...   \n",
       "6141cf11cc0e69a0cf28ab35  [[1.27612629e-07 1.84192955e+00 3.71975100e+00...   \n",
       "\n",
       "                          targets  \n",
       "6141cf0f51c1cbd9654b8870   1.0843  \n",
       "6141cf1051c1cbd9654b8872   1.1102  \n",
       "6141cf11ae4fb853db2e3f14   0.3600  \n",
       "6141cf11b842c2e72e2f2d48   1.8068  \n",
       "6141cf11cc0e69a0cf28ab35   1.1484  "
      ]
     },
     "execution_count": 6,
     "metadata": {},
     "output_type": "execute_result"
    }
   ],
   "source": [
    "sample_df.head()"
   ]
  },
  {
   "cell_type": "code",
   "execution_count": 10,
   "metadata": {},
   "outputs": [
    {
     "data": {
      "text/plain": [
       "array(['6141cf0f51c1cbd9654b8870', '6141cf1051c1cbd9654b8872',\n",
       "       '6141cf11ae4fb853db2e3f14', ..., '6146e9103ac25c70a5c6cded',\n",
       "       '6146ecdb3ac25c70a5c6cdef', '6147d3de31cf3ef3d4a9f846'],\n",
       "      dtype=object)"
      ]
     },
     "execution_count": 10,
     "metadata": {},
     "output_type": "execute_result"
    }
   ],
   "source": [
    "sample_df.index.values"
   ]
  },
  {
   "cell_type": "code",
   "execution_count": 9,
   "metadata": {},
   "outputs": [],
   "source": [
    "def save_cif(struct, sid):\n",
    "    cif_root = '../data/train_cif'  ## changable param\n",
    "    cif_obj = cif.CifWriter(struct)\n",
    "    cif_obj.write_file(cif_root+'/'+sid+'.cif')\n",
    "\n",
    "vsave_cif = np.vectorize(save_cif)"
   ]
  },
  {
   "cell_type": "code",
   "execution_count": null,
   "metadata": {},
   "outputs": [],
   "source": []
  },
  {
   "cell_type": "code",
   "execution_count": 11,
   "metadata": {},
   "outputs": [
    {
     "data": {
      "text/plain": [
       "array([None, None, None, ..., None, None, None], dtype=object)"
      ]
     },
     "execution_count": 11,
     "metadata": {},
     "output_type": "execute_result"
    }
   ],
   "source": [
    "vsave_cif(sample_df['structures'].values, sample_df.index.values)"
   ]
  },
  {
   "cell_type": "code",
   "execution_count": null,
   "metadata": {},
   "outputs": [],
   "source": []
  }
 ],
 "metadata": {
  "interpreter": {
   "hash": "aacd9efd2e917f2085b49ad3eecd2bc8a974d0bb8b89bc48afae7fa44e9f517f"
  },
  "kernelspec": {
   "display_name": "Python 3.9.7 ('base')",
   "language": "python",
   "name": "python3"
  },
  "language_info": {
   "codemirror_mode": {
    "name": "ipython",
    "version": 3
   },
   "file_extension": ".py",
   "mimetype": "text/x-python",
   "name": "python",
   "nbconvert_exporter": "python",
   "pygments_lexer": "ipython3",
   "version": "3.9.7"
  },
  "orig_nbformat": 4
 },
 "nbformat": 4,
 "nbformat_minor": 2
}
