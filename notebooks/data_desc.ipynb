{
 "cells": [
  {
   "cell_type": "code",
   "execution_count": 1,
   "metadata": {},
   "outputs": [],
   "source": [
    "import yaml\n",
    "import json\n",
    "\n",
    "import pandas as pd\n",
    "import numpy as np\n",
    "import tensorflow as tf\n",
    "\n",
    "from pathlib import Path\n",
    "from pymatgen.io import cif\n",
    "from pymatgen.core import Structure\n",
    "from sklearn.model_selection import train_test_split\n",
    "from megnet.models import MEGNetModel\n",
    "from megnet.data.crystal import CrystalGraph"
   ]
  },
  {
   "cell_type": "code",
   "execution_count": 2,
   "metadata": {},
   "outputs": [
    {
     "data": {
      "text/plain": [
       "[PhysicalDevice(name='/physical_device:GPU:0', device_type='GPU')]"
      ]
     },
     "execution_count": 2,
     "metadata": {},
     "output_type": "execute_result"
    }
   ],
   "source": [
    "gpus = tf.config.list_physical_devices('GPU')\n",
    "gpus"
   ]
  },
  {
   "cell_type": "markdown",
   "metadata": {},
   "source": [
    "Public dataset import & representation"
   ]
  },
  {
   "cell_type": "code",
   "execution_count": 3,
   "metadata": {},
   "outputs": [],
   "source": [
    "def read_pymatgen_dict(file):\n",
    "    with open(file, \"r\") as f:\n",
    "        d = json.load(f)\n",
    "    return Structure.from_dict(d)"
   ]
  },
  {
   "cell_type": "code",
   "execution_count": 4,
   "metadata": {},
   "outputs": [],
   "source": [
    "def prepare_dataset(dataset_path):\n",
    "    dataset_path = Path(dataset_path)\n",
    "    targets = pd.read_csv(dataset_path / \"targets.csv\", index_col=0)\n",
    "    struct = {\n",
    "        item.name.strip(\".json\"): read_pymatgen_dict(item)\n",
    "        for item in (dataset_path / \"structures\").iterdir()\n",
    "    }\n",
    "\n",
    "    data = pd.DataFrame(columns=[\"structures\"], index=struct.keys())\n",
    "    data = data.assign(structures=struct.values(), targets=targets)\n",
    "\n",
    "    return data #train_test_split(data, test_size=0.25, random_state=666)"
   ]
  },
  {
   "cell_type": "code",
   "execution_count": 5,
   "metadata": {},
   "outputs": [],
   "source": [
    "sample_df = prepare_dataset('../data/dichalcogenides_public')"
   ]
  },
  {
   "cell_type": "code",
   "execution_count": 6,
   "metadata": {},
   "outputs": [
    {
     "data": {
      "text/html": [
       "<div>\n",
       "<style scoped>\n",
       "    .dataframe tbody tr th:only-of-type {\n",
       "        vertical-align: middle;\n",
       "    }\n",
       "\n",
       "    .dataframe tbody tr th {\n",
       "        vertical-align: top;\n",
       "    }\n",
       "\n",
       "    .dataframe thead th {\n",
       "        text-align: right;\n",
       "    }\n",
       "</style>\n",
       "<table border=\"1\" class=\"dataframe\">\n",
       "  <thead>\n",
       "    <tr style=\"text-align: right;\">\n",
       "      <th></th>\n",
       "      <th>structures</th>\n",
       "      <th>targets</th>\n",
       "    </tr>\n",
       "  </thead>\n",
       "  <tbody>\n",
       "    <tr>\n",
       "      <th>6141cf0f51c1cbd9654b8870</th>\n",
       "      <td>[[1.27612629e-07 1.84192955e+00 3.71975100e+00...</td>\n",
       "      <td>1.0843</td>\n",
       "    </tr>\n",
       "    <tr>\n",
       "      <th>6141cf1051c1cbd9654b8872</th>\n",
       "      <td>[[1.27612629e-07 1.84192955e+00 3.71975100e+00...</td>\n",
       "      <td>1.1102</td>\n",
       "    </tr>\n",
       "    <tr>\n",
       "      <th>6141cf11ae4fb853db2e3f14</th>\n",
       "      <td>[[1.27612629e-07 1.84192955e+00 3.71975100e+00...</td>\n",
       "      <td>0.3600</td>\n",
       "    </tr>\n",
       "    <tr>\n",
       "      <th>6141cf11b842c2e72e2f2d48</th>\n",
       "      <td>[[1.27612629e-07 1.84192955e+00 3.71975100e+00...</td>\n",
       "      <td>1.8068</td>\n",
       "    </tr>\n",
       "    <tr>\n",
       "      <th>6141cf11cc0e69a0cf28ab35</th>\n",
       "      <td>[[1.27612629e-07 1.84192955e+00 3.71975100e+00...</td>\n",
       "      <td>1.1484</td>\n",
       "    </tr>\n",
       "  </tbody>\n",
       "</table>\n",
       "</div>"
      ],
      "text/plain": [
       "                                                                 structures  \\\n",
       "6141cf0f51c1cbd9654b8870  [[1.27612629e-07 1.84192955e+00 3.71975100e+00...   \n",
       "6141cf1051c1cbd9654b8872  [[1.27612629e-07 1.84192955e+00 3.71975100e+00...   \n",
       "6141cf11ae4fb853db2e3f14  [[1.27612629e-07 1.84192955e+00 3.71975100e+00...   \n",
       "6141cf11b842c2e72e2f2d48  [[1.27612629e-07 1.84192955e+00 3.71975100e+00...   \n",
       "6141cf11cc0e69a0cf28ab35  [[1.27612629e-07 1.84192955e+00 3.71975100e+00...   \n",
       "\n",
       "                          targets  \n",
       "6141cf0f51c1cbd9654b8870   1.0843  \n",
       "6141cf1051c1cbd9654b8872   1.1102  \n",
       "6141cf11ae4fb853db2e3f14   0.3600  \n",
       "6141cf11b842c2e72e2f2d48   1.8068  \n",
       "6141cf11cc0e69a0cf28ab35   1.1484  "
      ]
     },
     "execution_count": 6,
     "metadata": {},
     "output_type": "execute_result"
    }
   ],
   "source": [
    "sample_df.head()"
   ]
  },
  {
   "cell_type": "code",
   "execution_count": 7,
   "metadata": {},
   "outputs": [],
   "source": [
    "r = sample_df.iloc[5, 0]"
   ]
  },
  {
   "cell_type": "code",
   "execution_count": 8,
   "metadata": {},
   "outputs": [
    {
     "name": "stdout",
     "output_type": "stream",
     "text": [
      "Full Formula (Mo64 Se1 S126)\n",
      "Reduced Formula: Mo64SeS126\n",
      "abc   :  25.522526  25.522526  14.879004\n",
      "angles:  90.000000  90.000000 120.000000\n",
      "Sites (191)\n",
      "  #  SP           a         b         c\n",
      "---  ----  --------  --------  --------\n",
      "  0  Mo    0.041667  0.083333  0.25\n",
      "  1  Mo    0.041667  0.208333  0.25\n",
      "  2  Mo    0.041667  0.333333  0.25\n",
      "  3  Mo    0.041667  0.458333  0.25\n",
      "  4  Mo    0.041667  0.583333  0.25\n",
      "  5  Mo    0.041667  0.708333  0.25\n",
      "  6  Mo    0.041667  0.833333  0.25\n",
      "  7  Mo    0.041667  0.958333  0.25\n",
      "  8  Mo    0.166667  0.083333  0.25\n",
      "  9  Mo    0.166667  0.208333  0.25\n",
      " 10  Mo    0.166667  0.333333  0.25\n",
      " 11  Mo    0.166667  0.458333  0.25\n",
      " 12  Mo    0.166667  0.583333  0.25\n",
      " 13  Mo    0.166667  0.708333  0.25\n",
      " 14  Mo    0.166667  0.833333  0.25\n",
      " 15  Mo    0.166667  0.958333  0.25\n",
      " 16  Mo    0.291667  0.083333  0.25\n",
      " 17  Mo    0.291667  0.208333  0.25\n",
      " 18  Mo    0.291667  0.333333  0.25\n",
      " 19  Mo    0.291667  0.458333  0.25\n",
      " 20  Mo    0.291667  0.583333  0.25\n",
      " 21  Mo    0.291667  0.708333  0.25\n",
      " 22  Mo    0.291667  0.833333  0.25\n",
      " 23  Mo    0.291667  0.958333  0.25\n",
      " 24  Mo    0.416667  0.083333  0.25\n",
      " 25  Mo    0.416667  0.208333  0.25\n",
      " 26  Mo    0.416667  0.333333  0.25\n",
      " 27  Mo    0.416667  0.458333  0.25\n",
      " 28  Mo    0.416667  0.583333  0.25\n",
      " 29  Mo    0.416667  0.708333  0.25\n",
      " 30  Mo    0.416667  0.833333  0.25\n",
      " 31  Mo    0.416667  0.958333  0.25\n",
      " 32  Mo    0.541667  0.083333  0.25\n",
      " 33  Mo    0.541667  0.208333  0.25\n",
      " 34  Mo    0.541667  0.333333  0.25\n",
      " 35  Mo    0.541667  0.458333  0.25\n",
      " 36  Mo    0.541667  0.583333  0.25\n",
      " 37  Mo    0.541667  0.708333  0.25\n",
      " 38  Mo    0.541667  0.833333  0.25\n",
      " 39  Mo    0.541667  0.958333  0.25\n",
      " 40  Mo    0.666667  0.083333  0.25\n",
      " 41  Mo    0.666667  0.208333  0.25\n",
      " 42  Mo    0.666667  0.333333  0.25\n",
      " 43  Mo    0.666667  0.458333  0.25\n",
      " 44  Mo    0.666667  0.583333  0.25\n",
      " 45  Mo    0.666667  0.708333  0.25\n",
      " 46  Mo    0.666667  0.833333  0.25\n",
      " 47  Mo    0.666667  0.958333  0.25\n",
      " 48  Mo    0.791667  0.083333  0.25\n",
      " 49  Mo    0.791667  0.208333  0.25\n",
      " 50  Mo    0.791667  0.333333  0.25\n",
      " 51  Mo    0.791667  0.458333  0.25\n",
      " 52  Mo    0.791667  0.583333  0.25\n",
      " 53  Mo    0.791667  0.708333  0.25\n",
      " 54  Mo    0.791667  0.833333  0.25\n",
      " 55  Mo    0.791667  0.958333  0.25\n",
      " 56  Mo    0.916667  0.083333  0.25\n",
      " 57  Mo    0.916667  0.208333  0.25\n",
      " 58  Mo    0.916667  0.333333  0.25\n",
      " 59  Mo    0.916667  0.458333  0.25\n",
      " 60  Mo    0.916667  0.583333  0.25\n",
      " 61  Mo    0.916667  0.708333  0.25\n",
      " 62  Mo    0.916667  0.833333  0.25\n",
      " 63  Mo    0.916667  0.958333  0.25\n",
      " 64  Se    0.208333  0.291667  0.144826\n",
      " 65  S     0.083333  0.041667  0.144826\n",
      " 66  S     0.083333  0.166667  0.144826\n",
      " 67  S     0.083333  0.291667  0.144826\n",
      " 68  S     0.083333  0.416667  0.144826\n",
      " 69  S     0.083333  0.541667  0.144826\n",
      " 70  S     0.083333  0.666667  0.144826\n",
      " 71  S     0.083333  0.791667  0.144826\n",
      " 72  S     0.083333  0.916667  0.144826\n",
      " 73  S     0.208333  0.041667  0.144826\n",
      " 74  S     0.208333  0.166667  0.144826\n",
      " 75  S     0.208333  0.416667  0.144826\n",
      " 76  S     0.208333  0.541667  0.144826\n",
      " 77  S     0.208333  0.666667  0.144826\n",
      " 78  S     0.208333  0.791667  0.144826\n",
      " 79  S     0.208333  0.916667  0.144826\n",
      " 80  S     0.333333  0.041667  0.144826\n",
      " 81  S     0.333333  0.166667  0.144826\n",
      " 82  S     0.333333  0.291667  0.144826\n",
      " 83  S     0.333333  0.416667  0.144826\n",
      " 84  S     0.333333  0.541667  0.144826\n",
      " 85  S     0.333333  0.666667  0.144826\n",
      " 86  S     0.333333  0.791667  0.144826\n",
      " 87  S     0.333333  0.916667  0.144826\n",
      " 88  S     0.458333  0.041667  0.144826\n",
      " 89  S     0.458333  0.166667  0.144826\n",
      " 90  S     0.458333  0.291667  0.144826\n",
      " 91  S     0.458333  0.416667  0.144826\n",
      " 92  S     0.458333  0.541667  0.144826\n",
      " 93  S     0.458333  0.666667  0.144826\n",
      " 94  S     0.458333  0.791667  0.144826\n",
      " 95  S     0.458333  0.916667  0.144826\n",
      " 96  S     0.583333  0.041667  0.144826\n",
      " 97  S     0.583333  0.166667  0.144826\n",
      " 98  S     0.583333  0.291667  0.144826\n",
      " 99  S     0.583333  0.416667  0.144826\n",
      "100  S     0.583333  0.541667  0.144826\n",
      "101  S     0.583333  0.666667  0.144826\n",
      "102  S     0.583333  0.791667  0.144826\n",
      "103  S     0.583333  0.916667  0.144826\n",
      "104  S     0.708333  0.041667  0.144826\n",
      "105  S     0.708333  0.166667  0.144826\n",
      "106  S     0.708333  0.291667  0.144826\n",
      "107  S     0.708333  0.416667  0.144826\n",
      "108  S     0.708333  0.541667  0.144826\n",
      "109  S     0.708333  0.666667  0.144826\n",
      "110  S     0.708333  0.791667  0.144826\n",
      "111  S     0.708333  0.916667  0.144826\n",
      "112  S     0.833333  0.041667  0.144826\n",
      "113  S     0.833333  0.166667  0.144826\n",
      "114  S     0.833333  0.291667  0.144826\n",
      "115  S     0.833333  0.416667  0.144826\n",
      "116  S     0.833333  0.541667  0.144826\n",
      "117  S     0.833333  0.666667  0.144826\n",
      "118  S     0.833333  0.791667  0.144826\n",
      "119  S     0.833333  0.916667  0.144826\n",
      "120  S     0.958333  0.041667  0.144826\n",
      "121  S     0.958333  0.166667  0.144826\n",
      "122  S     0.958333  0.291667  0.144826\n",
      "123  S     0.958333  0.416667  0.144826\n",
      "124  S     0.958333  0.541667  0.144826\n",
      "125  S     0.958333  0.666667  0.144826\n",
      "126  S     0.958333  0.791667  0.144826\n",
      "127  S     0.958333  0.916667  0.144826\n",
      "128  S     0.083333  0.041667  0.355174\n",
      "129  S     0.083333  0.166667  0.355174\n",
      "130  S     0.083333  0.291667  0.355174\n",
      "131  S     0.083333  0.416667  0.355174\n",
      "132  S     0.083333  0.541667  0.355174\n",
      "133  S     0.083333  0.791667  0.355174\n",
      "134  S     0.083333  0.916667  0.355174\n",
      "135  S     0.208333  0.041667  0.355174\n",
      "136  S     0.208333  0.166667  0.355174\n",
      "137  S     0.208333  0.291667  0.355174\n",
      "138  S     0.208333  0.416667  0.355174\n",
      "139  S     0.208333  0.541667  0.355174\n",
      "140  S     0.208333  0.666667  0.355174\n",
      "141  S     0.208333  0.791667  0.355174\n",
      "142  S     0.208333  0.916667  0.355174\n",
      "143  S     0.333333  0.041667  0.355174\n",
      "144  S     0.333333  0.166667  0.355174\n",
      "145  S     0.333333  0.291667  0.355174\n",
      "146  S     0.333333  0.416667  0.355174\n",
      "147  S     0.333333  0.541667  0.355174\n",
      "148  S     0.333333  0.666667  0.355174\n",
      "149  S     0.333333  0.791667  0.355174\n",
      "150  S     0.333333  0.916667  0.355174\n",
      "151  S     0.458333  0.041667  0.355174\n",
      "152  S     0.458333  0.166667  0.355174\n",
      "153  S     0.458333  0.291667  0.355174\n",
      "154  S     0.458333  0.416667  0.355174\n",
      "155  S     0.458333  0.541667  0.355174\n",
      "156  S     0.458333  0.666667  0.355174\n",
      "157  S     0.458333  0.791667  0.355174\n",
      "158  S     0.458333  0.916667  0.355174\n",
      "159  S     0.583333  0.041667  0.355174\n",
      "160  S     0.583333  0.166667  0.355174\n",
      "161  S     0.583333  0.291667  0.355174\n",
      "162  S     0.583333  0.416667  0.355174\n",
      "163  S     0.583333  0.541667  0.355174\n",
      "164  S     0.583333  0.666667  0.355174\n",
      "165  S     0.583333  0.791667  0.355174\n",
      "166  S     0.583333  0.916667  0.355174\n",
      "167  S     0.708333  0.041667  0.355174\n",
      "168  S     0.708333  0.166667  0.355174\n",
      "169  S     0.708333  0.291667  0.355174\n",
      "170  S     0.708333  0.416667  0.355174\n",
      "171  S     0.708333  0.541667  0.355174\n",
      "172  S     0.708333  0.666667  0.355174\n",
      "173  S     0.708333  0.791667  0.355174\n",
      "174  S     0.708333  0.916667  0.355174\n",
      "175  S     0.833333  0.041667  0.355174\n",
      "176  S     0.833333  0.166667  0.355174\n",
      "177  S     0.833333  0.291667  0.355174\n",
      "178  S     0.833333  0.416667  0.355174\n",
      "179  S     0.833333  0.541667  0.355174\n",
      "180  S     0.833333  0.666667  0.355174\n",
      "181  S     0.833333  0.791667  0.355174\n",
      "182  S     0.833333  0.916667  0.355174\n",
      "183  S     0.958333  0.041667  0.355174\n",
      "184  S     0.958333  0.166667  0.355174\n",
      "185  S     0.958333  0.291667  0.355174\n",
      "186  S     0.958333  0.416667  0.355174\n",
      "187  S     0.958333  0.541667  0.355174\n",
      "188  S     0.958333  0.666667  0.355174\n",
      "189  S     0.958333  0.791667  0.355174\n",
      "190  S     0.958333  0.916667  0.355174 <class 'pymatgen.core.structure.Structure'>\n"
     ]
    }
   ],
   "source": [
    "print(r, type(r))"
   ]
  },
  {
   "cell_type": "code",
   "execution_count": 10,
   "metadata": {},
   "outputs": [],
   "source": [
    "sample_structs = sample_df.structures"
   ]
  },
  {
   "cell_type": "code",
   "execution_count": 13,
   "metadata": {},
   "outputs": [
    {
     "name": "stdout",
     "output_type": "stream",
     "text": [
      "<class 'pandas.core.series.Series'>\n",
      "<class 'pymatgen.core.structure.Structure'>\n"
     ]
    }
   ],
   "source": [
    "print(type(sample_structs))\n",
    "print(type(sample_structs[0]))"
   ]
  },
  {
   "cell_type": "code",
   "execution_count": 9,
   "metadata": {},
   "outputs": [],
   "source": [
    "cif_obj = cif.CifWriter(r)"
   ]
  },
  {
   "cell_type": "code",
   "execution_count": 10,
   "metadata": {},
   "outputs": [],
   "source": [
    "cif_obj.write_file('../data/sample/sample1.cif')"
   ]
  },
  {
   "cell_type": "code",
   "execution_count": 11,
   "metadata": {},
   "outputs": [
    {
     "data": {
      "application/vnd.jupyter.widget-view+json": {
       "model_id": "7b7122d572db476ea178e8dc1cccc9da",
       "version_major": 2,
       "version_minor": 0
      },
      "text/plain": []
     },
     "metadata": {},
     "output_type": "display_data"
    }
   ],
   "source": [
    "from pymatgen.io.cif import CifParser\n",
    "import nglview as nv\n",
    "# from nglview import show_structure_file"
   ]
  },
  {
   "cell_type": "code",
   "execution_count": 16,
   "metadata": {},
   "outputs": [],
   "source": [
    "view = nv.show_structure_file('../data/sample/sample1.cif')\n",
    "# view._remote_call('setSize', args=['', '600px'])\n",
    "# view.camera = 'orthographic'\n",
    "# view.add_unitcell\n",
    "# view"
   ]
  },
  {
   "cell_type": "code",
   "execution_count": 18,
   "metadata": {},
   "outputs": [
    {
     "data": {
      "text/plain": [
       "'NGLWidget()'"
      ]
     },
     "execution_count": 18,
     "metadata": {},
     "output_type": "execute_result"
    }
   ],
   "source": [
    "repr(view)"
   ]
  },
  {
   "cell_type": "code",
   "execution_count": null,
   "metadata": {},
   "outputs": [],
   "source": []
  }
 ],
 "metadata": {
  "interpreter": {
   "hash": "aacd9efd2e917f2085b49ad3eecd2bc8a974d0bb8b89bc48afae7fa44e9f517f"
  },
  "kernelspec": {
   "display_name": "Python 3.9.7 ('base')",
   "language": "python",
   "name": "python3"
  },
  "language_info": {
   "codemirror_mode": {
    "name": "ipython",
    "version": 3
   },
   "file_extension": ".py",
   "mimetype": "text/x-python",
   "name": "python",
   "nbconvert_exporter": "python",
   "pygments_lexer": "ipython3",
   "version": "3.9.7"
  },
  "orig_nbformat": 4
 },
 "nbformat": 4,
 "nbformat_minor": 2
}
